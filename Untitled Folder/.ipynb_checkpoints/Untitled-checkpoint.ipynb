{
 "cells": [
  {
   "cell_type": "code",
   "execution_count": 2,
   "id": "7bd3d32a",
   "metadata": {},
   "outputs": [],
   "source": [
    "import numpy as np"
   ]
  },
  {
   "cell_type": "code",
   "execution_count": 14,
   "id": "22883935",
   "metadata": {},
   "outputs": [
    {
     "name": "stdout",
     "output_type": "stream",
     "text": [
      "[ 6  6  5  7 10  5  9  7  2  5]\n"
     ]
    },
    {
     "name": "stderr",
     "output_type": "stream",
     "text": [
      "C:\\Users\\Татьяна\\AppData\\Local\\Temp\\ipykernel_8108\\1352006672.py:1: DeprecationWarning: This function is deprecated. Please call randint(0, 10 + 1) instead\n",
      "  array1 = np.random.random_integers(0,10,10)\n"
     ]
    }
   ],
   "source": [
    "array1 = np.random.random_integers(0,10,10)\n",
    "print(array1)"
   ]
  },
  {
   "cell_type": "code",
   "execution_count": 16,
   "id": "e68df9b7",
   "metadata": {},
   "outputs": [
    {
     "name": "stdout",
     "output_type": "stream",
     "text": [
      "[[ 6  6]\n",
      " [ 5  7]\n",
      " [10  5]\n",
      " [ 9  7]\n",
      " [ 2  5]]\n"
     ]
    }
   ],
   "source": [
    "ar1 = array1.reshape(5,2)\n",
    "print(ar1)"
   ]
  },
  {
   "cell_type": "code",
   "execution_count": 20,
   "id": "a7597cd0",
   "metadata": {},
   "outputs": [
    {
     "name": "stdout",
     "output_type": "stream",
     "text": [
      "[ 0  2  4  6  8 11 13 15 17 20]\n"
     ]
    }
   ],
   "source": [
    "array2 = np.linspace(0, 20, 10, dtype=int)\n",
    "print(array2)"
   ]
  },
  {
   "cell_type": "code",
   "execution_count": 21,
   "id": "427d0d96",
   "metadata": {},
   "outputs": [
    {
     "name": "stdout",
     "output_type": "stream",
     "text": [
      "[[ 0  2]\n",
      " [ 4  6]\n",
      " [ 8 11]\n",
      " [13 15]\n",
      " [17 20]]\n"
     ]
    }
   ],
   "source": [
    "ar2 = array2.reshape(5,2)\n",
    "print(ar2)"
   ]
  },
  {
   "cell_type": "code",
   "execution_count": 22,
   "id": "a1f52ef7",
   "metadata": {},
   "outputs": [
    {
     "name": "stdout",
     "output_type": "stream",
     "text": [
      "[[ 6  8]\n",
      " [ 9 13]\n",
      " [18 16]\n",
      " [22 22]\n",
      " [19 25]]\n"
     ]
    }
   ],
   "source": [
    "ar3 = ar1+ar2\n",
    "print(ar3)"
   ]
  },
  {
   "cell_type": "code",
   "execution_count": 23,
   "id": "b713f0d3",
   "metadata": {},
   "outputs": [
    {
     "name": "stdout",
     "output_type": "stream",
     "text": [
      "[[  6   4]\n",
      " [  1   1]\n",
      " [  2  -6]\n",
      " [ -4  -8]\n",
      " [-15 -15]]\n"
     ]
    }
   ],
   "source": [
    "ar4=ar1-ar2\n",
    "print(ar4)"
   ]
  },
  {
   "cell_type": "code",
   "execution_count": 24,
   "id": "2d84acc0",
   "metadata": {},
   "outputs": [
    {
     "name": "stdout",
     "output_type": "stream",
     "text": [
      "[[  0  12]\n",
      " [ 20  42]\n",
      " [ 80  55]\n",
      " [117 105]\n",
      " [ 34 100]]\n"
     ]
    }
   ],
   "source": [
    "ar5=ar1*ar2\n",
    "print(ar5)"
   ]
  },
  {
   "cell_type": "code",
   "execution_count": 25,
   "id": "6acc0999",
   "metadata": {},
   "outputs": [
    {
     "name": "stdout",
     "output_type": "stream",
     "text": [
      "[[       inf 3.        ]\n",
      " [1.25       1.16666667]\n",
      " [1.25       0.45454545]\n",
      " [0.69230769 0.46666667]\n",
      " [0.11764706 0.25      ]]\n"
     ]
    },
    {
     "name": "stderr",
     "output_type": "stream",
     "text": [
      "C:\\Users\\Татьяна\\AppData\\Local\\Temp\\ipykernel_8108\\2293878497.py:1: RuntimeWarning: divide by zero encountered in true_divide\n",
      "  ar6=ar1/ar2\n"
     ]
    }
   ],
   "source": [
    "ar6=ar1/ar2\n",
    "print(ar6)"
   ]
  },
  {
   "cell_type": "code",
   "execution_count": 26,
   "id": "8e9f018f",
   "metadata": {},
   "outputs": [
    {
     "data": {
      "text/plain": [
       "array([10,  7])"
      ]
     },
     "execution_count": 26,
     "metadata": {},
     "output_type": "execute_result"
    }
   ],
   "source": [
    "ar1.max(axis=0)"
   ]
  },
  {
   "cell_type": "code",
   "execution_count": 27,
   "id": "1bc80b29",
   "metadata": {},
   "outputs": [
    {
     "data": {
      "text/plain": [
       "array([ 6,  7, 10,  9,  5])"
      ]
     },
     "execution_count": 27,
     "metadata": {},
     "output_type": "execute_result"
    }
   ],
   "source": [
    "ar1.max(axis=1)"
   ]
  },
  {
   "cell_type": "code",
   "execution_count": 29,
   "id": "7cab13e2",
   "metadata": {},
   "outputs": [
    {
     "name": "stdout",
     "output_type": "stream",
     "text": [
      "10\n"
     ]
    }
   ],
   "source": [
    "max1=ar1.max()\n",
    "print(max1)"
   ]
  },
  {
   "cell_type": "code",
   "execution_count": 30,
   "id": "e087f36f",
   "metadata": {},
   "outputs": [
    {
     "name": "stdout",
     "output_type": "stream",
     "text": [
      "20\n"
     ]
    }
   ],
   "source": [
    "max2=ar2.max()\n",
    "print(max2)"
   ]
  },
  {
   "cell_type": "code",
   "execution_count": 34,
   "id": "37bee71b",
   "metadata": {},
   "outputs": [
    {
     "name": "stdout",
     "output_type": "stream",
     "text": [
      "20\n"
     ]
    }
   ],
   "source": [
    "if max1 > max2:\n",
    "    print(max1)\n",
    "else: print(max2)"
   ]
  },
  {
   "cell_type": "code",
   "execution_count": 35,
   "id": "cebbf63a",
   "metadata": {},
   "outputs": [
    {
     "name": "stdout",
     "output_type": "stream",
     "text": [
      "[[ 6  6  5  7 10]\n",
      " [ 5  9  7  2  5]]\n"
     ]
    }
   ],
   "source": [
    "ar_fin=ar1.reshape(2,5)\n",
    "print(ar_fin)"
   ]
  },
  {
   "cell_type": "code",
   "execution_count": null,
   "id": "e05adf02",
   "metadata": {},
   "outputs": [],
   "source": []
  },
  {
   "cell_type": "code",
   "execution_count": null,
   "id": "ed3dfe92",
   "metadata": {},
   "outputs": [],
   "source": []
  }
 ],
 "metadata": {
  "kernelspec": {
   "display_name": "Python 3 (ipykernel)",
   "language": "python",
   "name": "python3"
  },
  "language_info": {
   "codemirror_mode": {
    "name": "ipython",
    "version": 3
   },
   "file_extension": ".py",
   "mimetype": "text/x-python",
   "name": "python",
   "nbconvert_exporter": "python",
   "pygments_lexer": "ipython3",
   "version": "3.9.13"
  }
 },
 "nbformat": 4,
 "nbformat_minor": 5
}
